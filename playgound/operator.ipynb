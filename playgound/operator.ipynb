{
 "cells": [
  {
   "cell_type": "markdown",
   "metadata": {},
   "source": [
    "# การดำเนินการทางคณิตศาสตร์ใน Python Playground\n",
    "\n",
    "ใน Notebook นี้ เราจะสำรวจการดำเนินการทางคณิตศาสตร์พื้นฐานและขั้นสูงใน Python"
   ]
  },
  {
   "cell_type": "markdown",
   "metadata": {},
   "source": [
    "## 1. ตัวดำเนินการพื้นฐาน (Basic Operators)"
   ]
  },
  {
   "cell_type": "code",
   "execution_count": 2,
   "metadata": {},
   "outputs": [
    {
     "name": "stdout",
     "output_type": "stream",
     "text": [
      "5 + 3 = 8\n",
      "10 - 4 = 6\n",
      "3 * 4 = 12\n",
      "20 / 5 = 4.0\n",
      "17 // 5 = 3\n",
      "17 % 5 = 2\n",
      "2 ** 3 = 8\n"
     ]
    }
   ],
   "source": [
    "# บวก (+)\n",
    "a = 5 + 3\n",
    "print(f\"5 + 3 = {a}\")\n",
    "\n",
    "# ลบ (-)\n",
    "b = 10 - 4\n",
    "print(f\"10 - 4 = {b}\")\n",
    "\n",
    "# คูณ (*)\n",
    "c = 3 * 4\n",
    "print(f\"3 * 4 = {c}\")\n",
    "\n",
    "# หาร (/)\n",
    "d = 20 / 5\n",
    "print(f\"20 / 5 = {d}\")\n",
    "\n",
    "# หารแบบปัดเศษลง (//)\n",
    "e = 17 // 5\n",
    "print(f\"17 // 5 = {e}\")\n",
    "\n",
    "# หารเอาเศษ (%)\n",
    "f = 17 % 5\n",
    "print(f\"17 % 5 = {f}\")\n",
    "\n",
    "# ยกกำลัง (**)\n",
    "g = 2 ** 3\n",
    "print(f\"2 ** 3 = {g}\")"
   ]
  },
  {
   "cell_type": "markdown",
   "metadata": {},
   "source": [
    "## 2. ลำดับการดำเนินการ (Order of Operations)"
   ]
  },
  {
   "cell_type": "code",
   "execution_count": 1,
   "metadata": {},
   "outputs": [
    {
     "name": "stdout",
     "output_type": "stream",
     "text": [
      "2 + 3 * 4 = 14\n",
      "(2 + 3) * 4 = 20\n"
     ]
    }
   ],
   "source": [
    "result1 = 2 + 3 * 4\n",
    "print(f\"2 + 3 * 4 = {result1}\")\n",
    "\n",
    "result2 = (2 + 3) * 4\n",
    "print(f\"(2 + 3) * 4 = {result2}\")"
   ]
  },
  {
   "cell_type": "markdown",
   "metadata": {},
   "source": [
    "## 3. การดำเนินการกับตัวแปร"
   ]
  },
  {
   "cell_type": "code",
   "execution_count": null,
   "metadata": {},
   "outputs": [],
   "source": [
    "x = 10\n",
    "y = 5\n",
    "\n",
    "sum = x + y\n",
    "difference = x - y\n",
    "product = x * y\n",
    "quotient = x / y\n",
    "\n",
    "print(f\"x = {x}, y = {y}\")\n",
    "print(f\"x + y = {sum}\")\n",
    "print(f\"x - y = {difference}\")\n",
    "print(f\"x * y = {product}\")\n",
    "print(f\"x / y = {quotient}\")"
   ]
  },
  {
   "cell_type": "markdown",
   "metadata": {},
   "source": [
    "## 4. ตัวดำเนินการกำหนดค่าแบบย่อ (Compound Assignment Operators)"
   ]
  },
  {
   "cell_type": "code",
   "execution_count": null,
   "metadata": {},
   "outputs": [],
   "source": [
    "x = 10\n",
    "print(f\"เริ่มต้น: x = {x}\")\n",
    "\n",
    "x += 5\n",
    "print(f\"หลัง x += 5: x = {x}\")\n",
    "\n",
    "x -= 3\n",
    "print(f\"หลัง x -= 3: x = {x}\")\n",
    "\n",
    "x *= 2\n",
    "print(f\"หลัง x *= 2: x = {x}\")\n",
    "\n",
    "x /= 4\n",
    "print(f\"หลัง x /= 4: x = {x}\")\n",
    "\n",
    "x //= 2\n",
    "print(f\"หลัง x //= 2: x = {x}\")\n",
    "\n",
    "x %= 2\n",
    "print(f\"หลัง x %= 2: x = {x}\")\n",
    "\n",
    "x **= 3\n",
    "print(f\"หลัง x **= 3: x = {x}\")"
   ]
  },
  {
   "cell_type": "markdown",
   "metadata": {},
   "source": [
    "## 5. ฟังก์ชันทางคณิตศาสตร์จากโมดูล math"
   ]
  },
  {
   "cell_type": "code",
   "execution_count": null,
   "metadata": {},
   "outputs": [],
   "source": [
    "import math\n",
    "\n",
    "# ค่าสัมบูรณ์\n",
    "abs_value = abs(-5)\n",
    "print(f\"abs(-5) = {abs_value}\")\n",
    "\n",
    "# ปัดเศษขึ้น\n",
    "ceiling = math.ceil(4.3)\n",
    "print(f\"math.ceil(4.3) = {ceiling}\")\n",
    "\n",
    "# ปัดเศษลง\n",
    "floor = math.floor(4.7)\n",
    "print(f\"math.floor(4.7) = {floor}\")\n",
    "\n",
    "# ปัดเศษ\n",
    "rounded = round(4.5)\n",
    "print(f\"round(4.5) = {rounded}\")\n",
    "\n",
    "# ค่า pi\n",
    "pi_value = math.pi\n",
    "print(f\"math.pi ≈ {pi_value}\")\n",
    "\n",
    "# ฟังก์ชันตรีโกณมิติ\n",
    "sin_value = math.sin(math.pi/2)\n",
    "print(f\"math.sin(math.pi/2) = {sin_value}\")\n",
    "\n",
    "# ลอการิทึม\n",
    "log_value = math.log(100, 10)\n",
    "print(f\"math.log(100, 10) = {log_value}\")\n",
    "\n",
    "# รากที่สอง\n",
    "sqrt_value = math.sqrt(16)\n",
    "print(f\"math.sqrt(16) = {sqrt_value}\")"
   ]
  },
  {
   "cell_type": "markdown",
   "metadata": {},
   "source": [
    "## 6. การดำเนินการกับตัวเลขจำนวนเชิงซ้อน"
   ]
  },
  {
   "cell_type": "code",
   "execution_count": null,
   "metadata": {},
   "outputs": [],
   "source": [
    "a = 2 + 3j\n",
    "b = 1 - 2j\n",
    "\n",
    "sum_complex = a + b\n",
    "product_complex = a * b\n",
    "\n",
    "print(f\"a = {a}, b = {b}\")\n",
    "print(f\"a + b = {sum_complex}\")\n",
    "print(f\"a * b = {product_complex}\")"
   ]
  },
  {
   "cell_type": "markdown",
   "metadata": {},
   "source": [
    "## 7. การแปลงระหว่างระบบเลขฐาน"
   ]
  },
  {
   "cell_type": "code",
   "execution_count": null,
   "metadata": {},
   "outputs": [],
   "source": [
    "# แปลงเลขฐาน 2 เป็นฐาน 10\n",
    "binary_to_decimal = int('1010', 2)\n",
    "print(f\"int('1010', 2) = {binary_to_decimal}\")\n",
    "\n",
    "# แปลงเลขฐาน 10 เป็นฐาน 2\n",
    "decimal_to_binary = bin(10)\n",
    "print(f\"bin(10) = {decimal_to_binary}\")\n",
    "\n",
    "# แปลงเลขฐาน 16 เป็นฐาน 10\n",
    "hex_to_decimal = int('A', 16)\n",
    "print(f\"int('A', 16) = {hex_to_decimal}\")\n",
    "\n",
    "# แปลงเลขฐาน 10 เป็นฐาน 16\n",
    "decimal_to_hex = hex(10)\n",
    "print(f\"hex(10) = {decimal_to_hex}\")"
   ]
  },
  {
   "cell_type": "markdown",
   "metadata": {},
   "source": [
    "## 8. การจัดการกับความแม่นยำของทศนิยม"
   ]
  },
  {
   "cell_type": "code",
   "execution_count": null,
   "metadata": {},
   "outputs": [],
   "source": [
    "from decimal import Decimal\n",
    "\n",
    "a = Decimal('0.1')\n",
    "b = Decimal('0.2')\n",
    "c = a + b\n",
    "\n",
    "print(f\"Decimal('0.1') + Decimal('0.2') = {c}\")\n",
    "\n",
    "# เปรียบเทียบกับการใช้ float\n",
    "print(f\"0.1 + 0.2 = {0.1 + 0.2}\")"
   ]
  },
  {
   "cell_type": "markdown",
   "metadata": {},
   "source": [
    "## 9. ตัวอย่างการใช้งานในสถานการณ์จริง"
   ]
  },
  {
   "cell_type": "code",
   "execution_count": null,
   "metadata": {},
   "outputs": [],
   "source": [
    "# คำนวณพื้นที่วงกลม\n",
    "radius = 5\n",
    "area = math.pi * radius ** 2\n",
    "print(f\"พื้นที่วงกลมรัศมี {radius} คือ {area:.2f}\")\n",
    "\n",
    "# คำนวณดอกเบี้ยทบต้น\n",
    "principal = 1000  # เงินต้น\n",
    "rate = 0.05  # อัตราดอกเบี้ย 5%\n",
    "time = 5  # ระยะเวลา 5 ปี\n",
    "amount = principal * (1 + rate) ** time\n",
    "print(f\"เงิน {principal} บาท ที่ดอกเบี้ย {rate*100}% เป็นเวลา {time} ปี จะเพิ่มเป็น {amount:.2f} บาท\")"
   ]
  },
  {
   "cell_type": "markdown",
   "metadata": {},
   "source": [
    "คุณสามารถทดลองแก้ไขค่าต่างๆ ในเซลล์ด้านบนเพื่อเรียนรู้เพิ่มเติมเกี่ยวกับการดำเนินการทางคณิตศาสตร์ใน Python!"
   ]
  }
 ],
 "metadata": {
  "kernelspec": {
   "display_name": "Python 3",
   "language": "python",
   "name": "python3"
  },
  "language_info": {
   "codemirror_mode": {
    "name": "ipython",
    "version": 3
   },
   "file_extension": ".py",
   "mimetype": "text/x-python",
   "name": "python",
   "nbconvert_exporter": "python",
   "pygments_lexer": "ipython3",
   "version": "3.12.4"
  }
 },
 "nbformat": 4,
 "nbformat_minor": 4
}
