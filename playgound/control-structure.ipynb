{
 "cells": [
  {
   "cell_type": "markdown",
   "metadata": {},
   "source": [
    "# Python Control Structures Playground\n",
    "\n",
    "ใน Notebook นี้ เราจะสำรวจโครงสร้างควบคุม (Control Structures) ต่างๆ ใน Python ซึ่งประกอบด้วย if-else, loops, และ exception handling"
   ]
  },
  {
   "cell_type": "markdown",
   "metadata": {},
   "source": [
    "## 1. โครงสร้างเงื่อนไข (Conditional Statements)"
   ]
  },
  {
   "cell_type": "code",
   "execution_count": null,
   "metadata": {},
   "outputs": [],
   "source": [
    "# if-else statement\n",
    "x = 10\n",
    "if x > 0:\n",
    "    print(\"x เป็นจำนวนบวก\")\n",
    "elif x < 0:\n",
    "    print(\"x เป็นจำนวนลบ\")\n",
    "else:\n",
    "    print(\"x เป็นศูนย์\")\n",
    "\n",
    "# Ternary operator\n",
    "y = 20\n",
    "result = \"คู่\" if y % 2 == 0 else \"คี่\"\n",
    "print(f\"y เป็นจำนวน{result}\")\n",
    "\n",
    "# Multiple conditions\n",
    "age = 25\n",
    "income = 30000\n",
    "if age >= 18 and income >= 25000:\n",
    "    print(\"คุณมีสิทธิ์สมัครบัตรเครดิต\")\n",
    "else:\n",
    "    print(\"คุณยังไม่มีสิทธิ์สมัครบัตรเครดิต\")"
   ]
  },
  {
   "cell_type": "markdown",
   "metadata": {},
   "source": [
    "## 2. การวนซ้ำ (Loops)"
   ]
  },
  {
   "cell_type": "code",
   "execution_count": null,
   "metadata": {},
   "outputs": [],
   "source": [
    "# for loop\n",
    "print(\"for loop:\")\n",
    "for i in range(5):\n",
    "    print(i, end=\" \")\n",
    "print()\n",
    "\n",
    "# for loop with list\n",
    "fruits = [\"apple\", \"banana\", \"cherry\"]\n",
    "print(\"\\nfor loop with list:\")\n",
    "for fruit in fruits:\n",
    "    print(fruit)\n",
    "\n",
    "# while loop\n",
    "print(\"\\nwhile loop:\")\n",
    "count = 0\n",
    "while count < 5:\n",
    "    print(count, end=\" \")\n",
    "    count += 1\n",
    "print()\n",
    "\n",
    "# break and continue\n",
    "print(\"\\nbreak and continue:\")\n",
    "for i in range(10):\n",
    "    if i == 3:\n",
    "        continue\n",
    "    if i == 7:\n",
    "        break\n",
    "    print(i, end=\" \")\n",
    "print()\n",
    "\n",
    "# List comprehension\n",
    "squares = [x**2 for x in range(5)]\n",
    "print(f\"\\nList comprehension: {squares}\")"
   ]
  },
  {
   "cell_type": "markdown",
   "metadata": {},
   "source": [
    "## 3. การจัดการข้อยกเว้น (Exception Handling)"
   ]
  },
  {
   "cell_type": "code",
   "execution_count": null,
   "metadata": {},
   "outputs": [],
   "source": [
    "# Basic try-except\n",
    "try:\n",
    "    result = 10 / 0\n",
    "except ZeroDivisionError:\n",
    "    print(\"ไม่สามารถหารด้วยศูนย์ได้\")\n",
    "\n",
    "# Multiple exceptions\n",
    "try:\n",
    "    number = int(input(\"ป้อนตัวเลข: \"))\n",
    "    result = 10 / number\n",
    "    print(f\"ผลลัพธ์: {result}\")\n",
    "except ValueError:\n",
    "    print(\"กรุณาป้อนตัวเลขที่ถูกต้อง\")\n",
    "except ZeroDivisionError:\n",
    "    print(\"ไม่สามารถหารด้วยศูนย์ได้\")\n",
    "\n",
    "# try-except-else-finally\n",
    "try:\n",
    "    file = open(\"example.txt\", \"r\")\n",
    "    content = file.read()\n",
    "except FileNotFoundError:\n",
    "    print(\"ไม่พบไฟล์\")\n",
    "else:\n",
    "    print(f\"เนื้อหาในไฟล์: {content}\")\n",
    "finally:\n",
    "    file.close() if 'file' in locals() else None\n",
    "    print(\"ปิดไฟล์เรียบร้อยแล้ว\")"
   ]
  },
  {
   "cell_type": "markdown",
   "metadata": {},
   "source": [
    "## 4. การใช้งานร่วมกัน"
   ]
  },
  {
   "cell_type": "code",
   "execution_count": null,
   "metadata": {},
   "outputs": [],
   "source": [
    "# โปรแกรมเดาตัวเลข\n",
    "import random\n",
    "\n",
    "target_number = random.randint(1, 100)\n",
    "attempts = 0\n",
    "max_attempts = 7\n",
    "\n",
    "print(\"ยินดีต้อนรับสู่เกมเดาตัวเลข!\")\n",
    "print(f\"คุณมีโอกาสเดา {max_attempts} ครั้ง\")\n",
    "\n",
    "while attempts < max_attempts:\n",
    "    try:\n",
    "        guess = int(input(\"เดาตัวเลข (1-100): \"))\n",
    "        attempts += 1\n",
    "\n",
    "        if guess < 1 or guess > 100:\n",
    "            print(\"กรุณาป้อนตัวเลขระหว่าง 1 ถึง 100\")\n",
    "            continue\n",
    "\n",
    "        if guess < target_number:\n",
    "            print(\"น้อยไป! ลองใหม่อีกครั้ง\")\n",
    "        elif guess > target_number:\n",
    "            print(\"มากไป! ลองใหม่อีกครั้ง\")\n",
    "        else:\n",
    "            print(f\"ยินดีด้วย! คุณเดาถูกใน {attempts} ครั้ง\")\n",
    "            break\n",
    "\n",
    "        if attempts == max_attempts:\n",
    "            print(f\"เสียใจด้วย! คุณหมดโอกาสเดาแล้ว ตัวเลขที่ถูกต้องคือ {target_number}\")\n",
    "\n",
    "    except ValueError:\n",
    "        print(\"กรุณาป้อนตัวเลขที่ถูกต้อง\")\n",
    "        continue"
   ]
  },
  {
   "cell_type": "markdown",
   "metadata": {},
   "source": [
    "คุณสามารถทดลองรันและแก้ไขโค้ดในเซลล์ต่างๆ เพื่อเรียนรู้เพิ่มเติมเกี่ยวกับโครงสร้างควบคุมใน Python!"
   ]
  }
 ],
 "metadata": {
  "kernelspec": {
   "display_name": "Python 3",
   "language": "python",
   "name": "python3"
  },
  "language_info": {
   "codemirror_mode": {
    "name": "ipython",
    "version": 3
   },
   "file_extension": ".py",
   "mimetype": "text/x-python",
   "name": "python",
   "nbconvert_exporter": "python",
   "pygments_lexer": "ipython3",
   "version": "3.8.8"
  }
 },
 "nbformat": 4,
 "nbformat_minor": 4
}