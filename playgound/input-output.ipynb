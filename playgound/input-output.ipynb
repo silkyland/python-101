{
 "cells": [
  {
   "cell_type": "markdown",
   "metadata": {},
   "source": [
    "# Python Input และ Output Playground\n",
    "\n",
    "ใน Notebook นี้ เราจะสำรวจวิธีการรับข้อมูลเข้า (Input) และแสดงผลลัพธ์ (Output) ใน Python"
   ]
  },
  {
   "cell_type": "markdown",
   "metadata": {},
   "source": [
    "## 1. การรับข้อมูลเข้า (Input)"
   ]
  },
  {
   "cell_type": "code",
   "execution_count": null,
   "metadata": {},
   "outputs": [],
   "source": [
    "# รับข้อมูลแบบข้อความ\n",
    "name = input(\"กรุณาป้อนชื่อของคุณ: \")\n",
    "print(f\"สวัสดี, {name}!\")\n",
    "\n",
    "# รับข้อมูลแบบตัวเลข\n",
    "age = int(input(\"กรุณาป้อนอายุของคุณ: \"))\n",
    "print(f\"คุณมีอายุ {age} ปี\")\n",
    "\n",
    "# รับข้อมูลแบบทศนิยม\n",
    "height = float(input(\"กรุณาป้อนส่วนสูงของคุณ (เมตร): \"))\n",
    "print(f\"คุณสูง {height} เมตร\")"
   ]
  },
  {
   "cell_type": "markdown",
   "metadata": {},
   "source": [
    "## 2. การแสดงผลลัพธ์ (Output) ด้วย print()"
   ]
  },
  {
   "cell_type": "code",
   "execution_count": null,
   "metadata": {},
   "outputs": [],
   "source": [
    "# การแสดงผลข้อความธรรมดา\n",
    "print(\"สวัสดีชาวโลก!\")\n",
    "\n",
    "# การแสดงผลหลายบรรทัด\n",
    "print(\"บรรทัดที่ 1\\nบรรทัดที่ 2\\nบรรทัดที่ 3\")\n",
    "\n",
    "# การแสดงผลตัวแปร\n",
    "x = 10\n",
    "y = 20\n",
    "print(\"ค่าของ x คือ:\", x)\n",
    "print(\"ค่าของ y คือ:\", y)\n",
    "\n",
    "# การใช้ sep และ end\n",
    "print(\"Hello\", \"World\", sep=\"-\", end=\"!\\n\")\n",
    "\n",
    "# การใช้ f-string\n",
    "name = \"Alice\"\n",
    "age = 30\n",
    "print(f\"{name} มีอายุ {age} ปี\")"
   ]
  },
  {
   "cell_type": "markdown",
   "metadata": {},
   "source": [
    "## 3. การจัดรูปแบบการแสดงผล"
   ]
  },
  {
   "cell_type": "code",
   "execution_count": null,
   "metadata": {},
   "outputs": [],
   "source": [
    "# การจัดรูปแบบตัวเลข\n",
    "pi = 3.14159\n",
    "print(f\"ค่า pi แบบ 2 ตำแหน่งทศนิยม: {pi:.2f}\")\n",
    "\n",
    "# การจัดรูปแบบเปอร์เซ็นต์\n",
    "percentage = 0.7584\n",
    "print(f\"เปอร์เซ็นต์: {percentage:.2%}\")\n",
    "\n",
    "# การจัดรูปแบบตัวเลขแบบมีเครื่องหมายคั่นหลัก\n",
    "large_number = 1234567890\n",
    "print(f\"ตัวเลขใหญ่: {large_number:,}\")\n",
    "\n",
    "# การจัดรูปแบบข้อความ\n",
    "name = \"Bob\"\n",
    "print(f\"|{name:<10}|\")\n",
    "print(f\"|{name:>10}|\")\n",
    "print(f\"|{name:^10}|\")"
   ]
  },
  {
   "cell_type": "markdown",
   "metadata": {},
   "source": [
    "## 4. การเขียนและอ่านไฟล์"
   ]
  },
  {
   "cell_type": "code",
   "execution_count": null,
   "metadata": {},
   "outputs": [],
   "source": [
    "# การเขียนไฟล์\n",
    "with open(\"example.txt\", \"w\") as file:\n",
    "    file.write(\"นี่คือบรรทัดที่ 1\\n\")\n",
    "    file.write(\"นี่คือบรรทัดที่ 2\\n\")\n",
    "    file.write(\"นี่คือบรรทัดที่ 3\\n\")\n",
    "\n",
    "print(\"ไฟล์ถูกเขียนเรียบร้อยแล้ว\")\n",
    "\n",
    "# การอ่านไฟล์\n",
    "with open(\"example.txt\", \"r\") as file:\n",
    "    content = file.read()\n",
    "    print(\"เนื้อหาในไฟล์:\")\n",
    "    print(content)\n",
    "\n",
    "# การอ่านไฟล์แบบทีละบรรทัด\n",
    "print(\"\\nอ่านไฟล์แบบทีละบรรทัด:\")\n",
    "with open(\"example.txt\", \"r\") as file:\n",
    "    for line in file:\n",
    "        print(line.strip())"
   ]
  },
  {
   "cell_type": "markdown",
   "metadata": {},
   "source": [
    "## 5. การใช้ input() และ print() ในโปรแกรมง่ายๆ"
   ]
  },
  {
   "cell_type": "code",
   "execution_count": null,
   "metadata": {},
   "outputs": [],
   "source": [
    "# โปรแกรมคำนวณดัชนีมวลกาย (BMI)\n",
    "print(\"โปรแกรมคำนวณดัชนีมวลกาย (BMI)\")\n",
    "\n",
    "weight = float(input(\"กรุณาป้อนน้ำหนักของคุณ (กิโลกรัม): \"))\n",
    "height = float(input(\"กรุณาป้อนส่วนสูงของคุณ (เมตร): \"))\n",
    "\n",
    "bmi = weight / (height ** 2)\n",
    "\n",
    "print(f\"\\nBMI ของคุณคือ: {bmi:.2f}\")\n",
    "\n",
    "if bmi < 18.5:\n",
    "    print(\"คุณอยู่ในเกณฑ์น้ำหนักน้อย\")\n",
    "elif 18.5 <= bmi < 25:\n",
    "    print(\"คุณอยู่ในเกณฑ์ปกติ\")\n",
    "elif 25 <= bmi < 30:\n",
    "    print(\"คุณอยู่ในเกณฑ์น้ำหนักเกิน\")\n",
    "else:\n",
    "    print(\"คุณอยู่ในเกณฑ์อ้วน\")"
   ]
  },
  {
   "cell_type": "markdown",
   "metadata": {},
   "source": [
    "คุณสามารถทดลองรันและแก้ไขโค้ดในเซลล์ต่างๆ เพื่อเรียนรู้เพิ่มเติมเกี่ยวกับการรับข้อมูลเข้าและแสดงผลลัพธ์ใน Python!"
   ]
  }
 ],
 "metadata": {
  "kernelspec": {
   "display_name": "Python 3",
   "language": "python",
   "name": "python3"
  },
  "language_info": {
   "codemirror_mode": {
    "name": "ipython",
    "version": 3
   },
   "file_extension": ".py",
   "mimetype": "text/x-python",
   "name": "python",
   "nbconvert_exporter": "python",
   "pygments_lexer": "ipython3",
   "version": "3.8.8"
  }
 },
 "nbformat": 4,
 "nbformat_minor": 4
}