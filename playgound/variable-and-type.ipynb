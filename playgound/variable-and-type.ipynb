{
 "cells": [
  {
   "cell_type": "markdown",
   "metadata": {},
   "source": [
    "# Python Variable and Data Types Playground\n",
    "\n",
    "ใน Notebook นี้ เราจะสำรวจตัวแปรและประเภทข้อมูลพื้นฐานใน Python"
   ]
  },
  {
   "cell_type": "markdown",
   "metadata": {},
   "source": [
    "## 1. ตัวแปรพื้นฐาน"
   ]
  },
  {
   "cell_type": "code",
   "execution_count": 1,
   "metadata": {},
   "outputs": [
    {
     "name": "stdout",
     "output_type": "stream",
     "text": [
      "Name: Alice, Type: <class 'str'>\n",
      "Age: 30, Type: <class 'int'>\n",
      "Height: 1.65, Type: <class 'float'>\n",
      "Is student? False, Type: <class 'bool'>\n"
     ]
    }
   ],
   "source": [
    "# กำหนดค่าให้ตัวแปร\n",
    "name = \"Alice\"\n",
    "age = 30\n",
    "height = 1.65\n",
    "is_student = False\n",
    "\n",
    "# แสดงผลและตรวจสอบประเภทข้อมูล\n",
    "print(f\"Name: {name}, Type: {type(name)}\")\n",
    "print(f\"Age: {age}, Type: {type(age)}\")\n",
    "print(f\"Height: {height}, Type: {type(height)}\")\n",
    "print(f\"Is student? {is_student}, Type: {type(is_student)}\")"
   ]
  },
  {
   "cell_type": "markdown",
   "metadata": {},
   "source": [
    "## 2. ลิสต์ (List)"
   ]
  },
  {
   "cell_type": "code",
   "execution_count": 2,
   "metadata": {},
   "outputs": [
    {
     "name": "stdout",
     "output_type": "stream",
     "text": [
      "Hobbies: ['reading', 'swimming', 'coding']\n",
      "First hobby: reading\n",
      "Updated hobbies: ['reading', 'swimming', 'coding', 'cooking']\n"
     ]
    }
   ],
   "source": [
    "hobbies = [\"reading\", \"swimming\", \"coding\"]\n",
    "print(f\"Hobbies: {hobbies}\")\n",
    "print(f\"First hobby: {hobbies[0]}\")\n",
    "hobbies.append(\"cooking\")\n",
    "print(f\"Updated hobbies: {hobbies}\")"
   ]
  },
  {
   "cell_type": "markdown",
   "metadata": {},
   "source": [
    "## 3. ทูเพิล (Tuple)"
   ]
  },
  {
   "cell_type": "code",
   "execution_count": 3,
   "metadata": {},
   "outputs": [
    {
     "name": "stdout",
     "output_type": "stream",
     "text": [
      "Address: 123 Main St, City, 12345\n"
     ]
    }
   ],
   "source": [
    "address = (\"123 Main St\", \"City\", \"12345\")\n",
    "print(f\"Address: {', '.join(address)}\")\n",
    "# ลองแก้ไขทูเพิล (จะเกิด error)\n",
    "# address[0] = \"456 Oak St\""
   ]
  },
  {
   "cell_type": "markdown",
   "metadata": {},
   "source": [
    "## 4. ดิกชันนารี (Dictionary)"
   ]
  },
  {
   "cell_type": "code",
   "execution_count": 4,
   "metadata": {},
   "outputs": [
    {
     "name": "stdout",
     "output_type": "stream",
     "text": [
      "Grades:\n",
      "  math: 90\n",
      "  science: 85\n",
      "  history: 88\n",
      "\n",
      "Updated grades: {'math': 90, 'science': 85, 'history': 88, 'english': 92}\n"
     ]
    }
   ],
   "source": [
    "grades = {\"math\": 90, \"science\": 85, \"history\": 88}\n",
    "print(\"Grades:\")\n",
    "for subject, grade in grades.items():\n",
    "    print(f\"  {subject}: {grade}\")\n",
    "\n",
    "# เพิ่มวิชาใหม่\n",
    "grades[\"english\"] = 92\n",
    "print(f\"\\nUpdated grades: {grades}\")"
   ]
  },
  {
   "cell_type": "markdown",
   "metadata": {},
   "source": [
    "## 5. เซต (Set)"
   ]
  },
  {
   "cell_type": "code",
   "execution_count": 5,
   "metadata": {},
   "outputs": [
    {
     "name": "stdout",
     "output_type": "stream",
     "text": [
      "Unique numbers: {1, 2, 3, 4, 5}\n",
      "After adding 6: {1, 2, 3, 4, 5, 6}\n"
     ]
    }
   ],
   "source": [
    "unique_numbers = {1, 2, 3, 4, 5, 5, 4, 3}\n",
    "print(f\"Unique numbers: {unique_numbers}\")\n",
    "\n",
    "# เพิ่มสมาชิกใหม่\n",
    "unique_numbers.add(6)\n",
    "print(f\"After adding 6: {unique_numbers}\")"
   ]
  },
  {
   "cell_type": "markdown",
   "metadata": {},
   "source": [
    "## 6. การแปลงประเภทข้อมูล"
   ]
  },
  {
   "cell_type": "code",
   "execution_count": 6,
   "metadata": {},
   "outputs": [
    {
     "name": "stdout",
     "output_type": "stream",
     "text": [
      "'10' แปลงเป็นจำนวนเต็ม: 10, Type: <class 'int'>\n",
      "10 แปลงเป็นทศนิยม: 10.0, Type: <class 'float'>\n",
      "10.0 แปลงเป็นสตริง: '10.0', Type: <class 'str'>\n"
     ]
    }
   ],
   "source": [
    "# แปลงสตริงเป็นจำนวนเต็ม\n",
    "str_num = \"10\"\n",
    "int_num = int(str_num)\n",
    "print(f\"'{str_num}' แปลงเป็นจำนวนเต็ม: {int_num}, Type: {type(int_num)}\")\n",
    "\n",
    "# แปลงจำนวนเต็มเป็นทศนิยม\n",
    "float_num = float(int_num)\n",
    "print(f\"{int_num} แปลงเป็นทศนิยม: {float_num}, Type: {type(float_num)}\")\n",
    "\n",
    "# แปลงจำนวนเป็นสตริง\n",
    "num_to_str = str(float_num)\n",
    "print(f\"{float_num} แปลงเป็นสตริง: '{num_to_str}', Type: {type(num_to_str)}\")"
   ]
  },
  {
   "cell_type": "markdown",
   "metadata": {},
   "source": [
    "## 7. None type"
   ]
  },
  {
   "cell_type": "code",
   "execution_count": null,
   "metadata": {},
   "outputs": [],
   "source": [
    "value = None\n",
    "print(f\"Value: {value}, Type: {type(value)}\")\n",
    "\n",
    "def check_none(x):\n",
    "    if x is None:\n",
    "        return \"ค่านี้เป็น None\"\n",
    "    return \"ค่านี้ไม่ใช่ None\"\n",
    "\n",
    "print(check_none(value))\n",
    "print(check_none(0))"
   ]
  },
  {
   "cell_type": "markdown",
   "metadata": {},
   "source": [
    "## 8. การใช้งานร่วมกัน"
   ]
  },
  {
   "cell_type": "code",
   "execution_count": null,
   "metadata": {},
   "outputs": [],
   "source": [
    "# สร้างข้อมูลผู้ใช้โดยใช้ประเภทข้อมูลต่างๆ\n",
    "user = {\n",
    "    \"name\": \"Bob\",\n",
    "    \"age\": 25,\n",
    "    \"is_student\": True,\n",
    "    \"courses\": [\"Python\", \"Data Science\", \"Machine Learning\"],\n",
    "    \"scores\": {\"quiz1\": 90, \"quiz2\": 85, \"project\": None}\n",
    "}\n",
    "\n",
    "# แสดงข้อมูลผู้ใช้\n",
    "print(f\"User: {user['name']}\")\n",
    "print(f\"Age: {user['age']}\")\n",
    "print(f\"Is student? {'Yes' if user['is_student'] else 'No'}\")\n",
    "print(f\"Courses: {', '.join(user['courses'])}\")\n",
    "print(\"Scores:\")\n",
    "for quiz, score in user['scores'].items():\n",
    "    print(f\"  {quiz}: {score if score is not None else 'Not graded yet'}\")"
   ]
  },
  {
   "cell_type": "markdown",
   "metadata": {},
   "source": [
    "คุณสามารถทดลองแก้ไขค่าต่างๆ ในเซลล์ด้านบนเพื่อเรียนรู้เพิ่มเติมเกี่ยวกับตัวแปรและประเภทข้อมูลใน Python!"
   ]
  }
 ],
 "metadata": {
  "kernelspec": {
   "display_name": "Python 3",
   "language": "python",
   "name": "python3"
  },
  "language_info": {
   "codemirror_mode": {
    "name": "ipython",
    "version": 3
   },
   "file_extension": ".py",
   "mimetype": "text/x-python",
   "name": "python",
   "nbconvert_exporter": "python",
   "pygments_lexer": "ipython3",
   "version": "3.12.4"
  }
 },
 "nbformat": 4,
 "nbformat_minor": 4
}
